{
  "cells": [
    {
      "cell_type": "markdown",
      "metadata": {
        "id": "view-in-github",
        "colab_type": "text"
      },
      "source": [
        "<a href=\"https://colab.research.google.com/github/RaweenS/DADS6003/blob/main/Assignment2.ipynb\" target=\"_parent\"><img src=\"https://colab.research.google.com/assets/colab-badge.svg\" alt=\"Open In Colab\"/></a>"
      ]
    },
    {
      "cell_type": "markdown",
      "id": "fd5f94c7-b73c-48a8-98f4-daf8a34d63f7",
      "metadata": {
        "id": "fd5f94c7-b73c-48a8-98f4-daf8a34d63f7"
      },
      "source": [
        "a) โดย น.ศ. สามารถเลือกหุ้น (ทั่วโลก) ได้ตามใจชอบมา 1 หุ้น และจะใช้ data ย้อนหลังกี่วันก็ได้ แต่ time frame (window) ต้องเป็น 1 ชั่วโมงเหมือนกันทุกคน (ตามที่กำหนดไว้ใน starter kit link ข้างบน) แล้วแสดงผลลัพธ์ของกราฟ"
      ]
    },
    {
      "cell_type": "code",
      "execution_count": null,
      "id": "c07563af-4873-499e-bd0f-72436cb6c82e",
      "metadata": {
        "id": "c07563af-4873-499e-bd0f-72436cb6c82e"
      },
      "outputs": [],
      "source": [
        "import yfinance as yf\n",
        "import numpy as np\n",
        "import pandas as pd\n",
        "\n",
        "# Technical Indicators\n",
        "import talib as ta\n",
        "\n",
        "import matplotlib.pyplot as plt\n",
        "\n",
        "from sklearn.linear_model import LogisticRegression\n",
        "from sklearn import metrics\n",
        "from sklearn.model_selection import cross_val_score"
      ]
    },
    {
      "cell_type": "code",
      "execution_count": null,
      "id": "dac5f923-82c1-41cb-8b89-1c1c8a8edd8c",
      "metadata": {
        "id": "dac5f923-82c1-41cb-8b89-1c1c8a8edd8c",
        "outputId": "9d890eaa-a41f-4e82-c2be-3726d20a8a83"
      },
      "outputs": [
        {
          "data": {
            "text/html": [
              "<div>\n",
              "<style scoped>\n",
              "    .dataframe tbody tr th:only-of-type {\n",
              "        vertical-align: middle;\n",
              "    }\n",
              "\n",
              "    .dataframe tbody tr th {\n",
              "        vertical-align: top;\n",
              "    }\n",
              "\n",
              "    .dataframe thead th {\n",
              "        text-align: right;\n",
              "    }\n",
              "</style>\n",
              "<table border=\"1\" class=\"dataframe\">\n",
              "  <thead>\n",
              "    <tr style=\"text-align: right;\">\n",
              "      <th></th>\n",
              "      <th>Open</th>\n",
              "      <th>High</th>\n",
              "      <th>Low</th>\n",
              "      <th>Close</th>\n",
              "      <th>Volume</th>\n",
              "      <th>Dividends</th>\n",
              "      <th>Stock Splits</th>\n",
              "    </tr>\n",
              "    <tr>\n",
              "      <th>Datetime</th>\n",
              "      <th></th>\n",
              "      <th></th>\n",
              "      <th></th>\n",
              "      <th></th>\n",
              "      <th></th>\n",
              "      <th></th>\n",
              "      <th></th>\n",
              "    </tr>\n",
              "  </thead>\n",
              "  <tbody>\n",
              "    <tr>\n",
              "      <th>2021-03-26 09:30:00-04:00</th>\n",
              "      <td>731.320007</td>\n",
              "      <td>740.349976</td>\n",
              "      <td>731.320007</td>\n",
              "      <td>740.070007</td>\n",
              "      <td>69171</td>\n",
              "      <td>0.0</td>\n",
              "      <td>0.0</td>\n",
              "    </tr>\n",
              "    <tr>\n",
              "      <th>2021-03-26 10:30:00-04:00</th>\n",
              "      <td>740.359985</td>\n",
              "      <td>741.830017</td>\n",
              "      <td>737.950012</td>\n",
              "      <td>739.804993</td>\n",
              "      <td>56020</td>\n",
              "      <td>0.0</td>\n",
              "      <td>0.0</td>\n",
              "    </tr>\n",
              "    <tr>\n",
              "      <th>2021-03-26 11:30:00-04:00</th>\n",
              "      <td>740.299988</td>\n",
              "      <td>745.179993</td>\n",
              "      <td>740.200012</td>\n",
              "      <td>743.940002</td>\n",
              "      <td>61575</td>\n",
              "      <td>0.0</td>\n",
              "      <td>0.0</td>\n",
              "    </tr>\n",
              "    <tr>\n",
              "      <th>2021-03-26 12:30:00-04:00</th>\n",
              "      <td>744.539978</td>\n",
              "      <td>747.739990</td>\n",
              "      <td>744.021118</td>\n",
              "      <td>747.739990</td>\n",
              "      <td>63640</td>\n",
              "      <td>0.0</td>\n",
              "      <td>0.0</td>\n",
              "    </tr>\n",
              "    <tr>\n",
              "      <th>2021-03-26 13:30:00-04:00</th>\n",
              "      <td>747.789978</td>\n",
              "      <td>751.919983</td>\n",
              "      <td>745.900024</td>\n",
              "      <td>748.565002</td>\n",
              "      <td>140281</td>\n",
              "      <td>0.0</td>\n",
              "      <td>0.0</td>\n",
              "    </tr>\n",
              "    <tr>\n",
              "      <th>...</th>\n",
              "      <td>...</td>\n",
              "      <td>...</td>\n",
              "      <td>...</td>\n",
              "      <td>...</td>\n",
              "      <td>...</td>\n",
              "      <td>...</td>\n",
              "      <td>...</td>\n",
              "    </tr>\n",
              "    <tr>\n",
              "      <th>2024-02-16 13:30:00-05:00</th>\n",
              "      <td>797.400024</td>\n",
              "      <td>797.840027</td>\n",
              "      <td>796.690002</td>\n",
              "      <td>797.625000</td>\n",
              "      <td>24681</td>\n",
              "      <td>0.0</td>\n",
              "      <td>0.0</td>\n",
              "    </tr>\n",
              "    <tr>\n",
              "      <th>2024-02-16 14:30:00-05:00</th>\n",
              "      <td>797.429993</td>\n",
              "      <td>797.440002</td>\n",
              "      <td>792.109985</td>\n",
              "      <td>793.830017</td>\n",
              "      <td>43041</td>\n",
              "      <td>0.0</td>\n",
              "      <td>0.0</td>\n",
              "    </tr>\n",
              "    <tr>\n",
              "      <th>2024-02-16 15:30:00-05:00</th>\n",
              "      <td>794.390015</td>\n",
              "      <td>794.570007</td>\n",
              "      <td>791.239990</td>\n",
              "      <td>794.109985</td>\n",
              "      <td>84820</td>\n",
              "      <td>0.0</td>\n",
              "      <td>0.0</td>\n",
              "    </tr>\n",
              "    <tr>\n",
              "      <th>2024-02-20 09:30:00-05:00</th>\n",
              "      <td>789.280029</td>\n",
              "      <td>797.409973</td>\n",
              "      <td>787.570007</td>\n",
              "      <td>796.419983</td>\n",
              "      <td>81402</td>\n",
              "      <td>0.0</td>\n",
              "      <td>0.0</td>\n",
              "    </tr>\n",
              "    <tr>\n",
              "      <th>2024-02-20 10:30:00-05:00</th>\n",
              "      <td>796.405029</td>\n",
              "      <td>801.309998</td>\n",
              "      <td>795.684998</td>\n",
              "      <td>800.630005</td>\n",
              "      <td>57949</td>\n",
              "      <td>0.0</td>\n",
              "      <td>0.0</td>\n",
              "    </tr>\n",
              "  </tbody>\n",
              "</table>\n",
              "<p>5089 rows × 7 columns</p>\n",
              "</div>"
            ],
            "text/plain": [
              "                                 Open        High         Low       Close  \\\n",
              "Datetime                                                                    \n",
              "2021-03-26 09:30:00-04:00  731.320007  740.349976  731.320007  740.070007   \n",
              "2021-03-26 10:30:00-04:00  740.359985  741.830017  737.950012  739.804993   \n",
              "2021-03-26 11:30:00-04:00  740.299988  745.179993  740.200012  743.940002   \n",
              "2021-03-26 12:30:00-04:00  744.539978  747.739990  744.021118  747.739990   \n",
              "2021-03-26 13:30:00-04:00  747.789978  751.919983  745.900024  748.565002   \n",
              "...                               ...         ...         ...         ...   \n",
              "2024-02-16 13:30:00-05:00  797.400024  797.840027  796.690002  797.625000   \n",
              "2024-02-16 14:30:00-05:00  797.429993  797.440002  792.109985  793.830017   \n",
              "2024-02-16 15:30:00-05:00  794.390015  794.570007  791.239990  794.109985   \n",
              "2024-02-20 09:30:00-05:00  789.280029  797.409973  787.570007  796.419983   \n",
              "2024-02-20 10:30:00-05:00  796.405029  801.309998  795.684998  800.630005   \n",
              "\n",
              "                           Volume  Dividends  Stock Splits  \n",
              "Datetime                                                    \n",
              "2021-03-26 09:30:00-04:00   69171        0.0           0.0  \n",
              "2021-03-26 10:30:00-04:00   56020        0.0           0.0  \n",
              "2021-03-26 11:30:00-04:00   61575        0.0           0.0  \n",
              "2021-03-26 12:30:00-04:00   63640        0.0           0.0  \n",
              "2021-03-26 13:30:00-04:00  140281        0.0           0.0  \n",
              "...                           ...        ...           ...  \n",
              "2024-02-16 13:30:00-05:00   24681        0.0           0.0  \n",
              "2024-02-16 14:30:00-05:00   43041        0.0           0.0  \n",
              "2024-02-16 15:30:00-05:00   84820        0.0           0.0  \n",
              "2024-02-20 09:30:00-05:00   81402        0.0           0.0  \n",
              "2024-02-20 10:30:00-05:00   57949        0.0           0.0  \n",
              "\n",
              "[5089 rows x 7 columns]"
            ]
          },
          "execution_count": 2,
          "metadata": {},
          "output_type": "execute_result"
        }
      ],
      "source": [
        "st = yf.Ticker('BLK')\n",
        "interval = '1h'\n",
        "st_df = st.history(interval=interval,period='730d')\n",
        "st_df"
      ]
    },
    {
      "cell_type": "code",
      "execution_count": null,
      "id": "42f65fa9-a393-4461-9aa5-ec41595366a5",
      "metadata": {
        "id": "42f65fa9-a393-4461-9aa5-ec41595366a5",
        "outputId": "18992464-df16-4a77-e320-36ade1f671ef"
      },
      "outputs": [
        {
          "data": {
            "text/html": [
              "<div>\n",
              "<style scoped>\n",
              "    .dataframe tbody tr th:only-of-type {\n",
              "        vertical-align: middle;\n",
              "    }\n",
              "\n",
              "    .dataframe tbody tr th {\n",
              "        vertical-align: top;\n",
              "    }\n",
              "\n",
              "    .dataframe thead th {\n",
              "        text-align: right;\n",
              "    }\n",
              "</style>\n",
              "<table border=\"1\" class=\"dataframe\">\n",
              "  <thead>\n",
              "    <tr style=\"text-align: right;\">\n",
              "      <th></th>\n",
              "      <th>Open</th>\n",
              "      <th>High</th>\n",
              "      <th>Low</th>\n",
              "      <th>Close</th>\n",
              "    </tr>\n",
              "    <tr>\n",
              "      <th>Datetime</th>\n",
              "      <th></th>\n",
              "      <th></th>\n",
              "      <th></th>\n",
              "      <th></th>\n",
              "    </tr>\n",
              "  </thead>\n",
              "  <tbody>\n",
              "    <tr>\n",
              "      <th>2021-03-26 09:30:00-04:00</th>\n",
              "      <td>731.320007</td>\n",
              "      <td>740.349976</td>\n",
              "      <td>731.320007</td>\n",
              "      <td>740.070007</td>\n",
              "    </tr>\n",
              "    <tr>\n",
              "      <th>2021-03-26 10:30:00-04:00</th>\n",
              "      <td>740.359985</td>\n",
              "      <td>741.830017</td>\n",
              "      <td>737.950012</td>\n",
              "      <td>739.804993</td>\n",
              "    </tr>\n",
              "    <tr>\n",
              "      <th>2021-03-26 11:30:00-04:00</th>\n",
              "      <td>740.299988</td>\n",
              "      <td>745.179993</td>\n",
              "      <td>740.200012</td>\n",
              "      <td>743.940002</td>\n",
              "    </tr>\n",
              "    <tr>\n",
              "      <th>2021-03-26 12:30:00-04:00</th>\n",
              "      <td>744.539978</td>\n",
              "      <td>747.739990</td>\n",
              "      <td>744.021118</td>\n",
              "      <td>747.739990</td>\n",
              "    </tr>\n",
              "    <tr>\n",
              "      <th>2021-03-26 13:30:00-04:00</th>\n",
              "      <td>747.789978</td>\n",
              "      <td>751.919983</td>\n",
              "      <td>745.900024</td>\n",
              "      <td>748.565002</td>\n",
              "    </tr>\n",
              "  </tbody>\n",
              "</table>\n",
              "</div>"
            ],
            "text/plain": [
              "                                 Open        High         Low       Close\n",
              "Datetime                                                                 \n",
              "2021-03-26 09:30:00-04:00  731.320007  740.349976  731.320007  740.070007\n",
              "2021-03-26 10:30:00-04:00  740.359985  741.830017  737.950012  739.804993\n",
              "2021-03-26 11:30:00-04:00  740.299988  745.179993  740.200012  743.940002\n",
              "2021-03-26 12:30:00-04:00  744.539978  747.739990  744.021118  747.739990\n",
              "2021-03-26 13:30:00-04:00  747.789978  751.919983  745.900024  748.565002"
            ]
          },
          "execution_count": 3,
          "metadata": {},
          "output_type": "execute_result"
        }
      ],
      "source": [
        "st_df.dropna(inplace=True)\n",
        "st_df = st_df.iloc[:,:4]\n",
        "st_df.head()"
      ]
    },
    {
      "cell_type": "code",
      "execution_count": null,
      "id": "2b22d412-8e78-4f16-8ace-81ad7732f5bb",
      "metadata": {
        "id": "2b22d412-8e78-4f16-8ace-81ad7732f5bb"
      },
      "outputs": [],
      "source": [
        "st_df['S_10'] = st_df['Close'].rolling(window=10).mean()\n",
        "st_df['Corr'] = st_df['Close'].rolling(window=10).corr(st_df['S_10'])\n",
        "st_df['RSI'] = ta.RSI(np.array(st_df['Close']), timeperiod =10)\n",
        "st_df['Open-Close'] = st_df['Open'] - st_df['Close'].shift(1)\n",
        "st_df['Open-Open'] = st_df['Open'] - st_df['Open'].shift(1)\n",
        "st_df.dropna(inplace=True)\n",
        "X = st_df.iloc[:,:9]"
      ]
    },
    {
      "cell_type": "code",
      "execution_count": null,
      "id": "9104bdf3-f116-45e3-b47c-183f94462d0e",
      "metadata": {
        "id": "9104bdf3-f116-45e3-b47c-183f94462d0e",
        "outputId": "b08ae26c-e667-443a-bd73-bac1c3881424"
      },
      "outputs": [
        {
          "data": {
            "text/html": [
              "<div>\n",
              "<style scoped>\n",
              "    .dataframe tbody tr th:only-of-type {\n",
              "        vertical-align: middle;\n",
              "    }\n",
              "\n",
              "    .dataframe tbody tr th {\n",
              "        vertical-align: top;\n",
              "    }\n",
              "\n",
              "    .dataframe thead th {\n",
              "        text-align: right;\n",
              "    }\n",
              "</style>\n",
              "<table border=\"1\" class=\"dataframe\">\n",
              "  <thead>\n",
              "    <tr style=\"text-align: right;\">\n",
              "      <th></th>\n",
              "      <th>Open</th>\n",
              "      <th>High</th>\n",
              "      <th>Low</th>\n",
              "      <th>Close</th>\n",
              "      <th>S_10</th>\n",
              "      <th>Corr</th>\n",
              "      <th>RSI</th>\n",
              "      <th>Open-Close</th>\n",
              "      <th>Open-Open</th>\n",
              "    </tr>\n",
              "    <tr>\n",
              "      <th>Datetime</th>\n",
              "      <th></th>\n",
              "      <th></th>\n",
              "      <th></th>\n",
              "      <th></th>\n",
              "      <th></th>\n",
              "      <th></th>\n",
              "      <th></th>\n",
              "      <th></th>\n",
              "      <th></th>\n",
              "    </tr>\n",
              "  </thead>\n",
              "  <tbody>\n",
              "    <tr>\n",
              "      <th>2021-03-30 13:30:00-04:00</th>\n",
              "      <td>751.200012</td>\n",
              "      <td>751.429993</td>\n",
              "      <td>749.440002</td>\n",
              "      <td>750.640015</td>\n",
              "      <td>755.515497</td>\n",
              "      <td>-0.180783</td>\n",
              "      <td>53.269376</td>\n",
              "      <td>0.080017</td>\n",
              "      <td>-1.880005</td>\n",
              "    </tr>\n",
              "    <tr>\n",
              "      <th>2021-03-30 14:30:00-04:00</th>\n",
              "      <td>750.820007</td>\n",
              "      <td>752.489990</td>\n",
              "      <td>750.140015</td>\n",
              "      <td>751.760010</td>\n",
              "      <td>755.342499</td>\n",
              "      <td>-0.464396</td>\n",
              "      <td>55.530025</td>\n",
              "      <td>0.179993</td>\n",
              "      <td>-0.380005</td>\n",
              "    </tr>\n",
              "    <tr>\n",
              "      <th>2021-03-30 15:30:00-04:00</th>\n",
              "      <td>751.784973</td>\n",
              "      <td>752.380005</td>\n",
              "      <td>746.960022</td>\n",
              "      <td>748.630005</td>\n",
              "      <td>754.605499</td>\n",
              "      <td>-0.552108</td>\n",
              "      <td>48.277885</td>\n",
              "      <td>0.024963</td>\n",
              "      <td>0.964966</td>\n",
              "    </tr>\n",
              "    <tr>\n",
              "      <th>2021-03-31 09:30:00-04:00</th>\n",
              "      <td>749.969971</td>\n",
              "      <td>755.599976</td>\n",
              "      <td>748.849976</td>\n",
              "      <td>754.969971</td>\n",
              "      <td>754.345496</td>\n",
              "      <td>-0.621859</td>\n",
              "      <td>60.026985</td>\n",
              "      <td>1.339966</td>\n",
              "      <td>-1.815002</td>\n",
              "    </tr>\n",
              "    <tr>\n",
              "      <th>2021-03-31 10:30:00-04:00</th>\n",
              "      <td>754.156372</td>\n",
              "      <td>757.750000</td>\n",
              "      <td>754.020020</td>\n",
              "      <td>755.770020</td>\n",
              "      <td>753.798499</td>\n",
              "      <td>-0.388061</td>\n",
              "      <td>61.260844</td>\n",
              "      <td>-0.813599</td>\n",
              "      <td>4.186401</td>\n",
              "    </tr>\n",
              "    <tr>\n",
              "      <th>...</th>\n",
              "      <td>...</td>\n",
              "      <td>...</td>\n",
              "      <td>...</td>\n",
              "      <td>...</td>\n",
              "      <td>...</td>\n",
              "      <td>...</td>\n",
              "      <td>...</td>\n",
              "      <td>...</td>\n",
              "      <td>...</td>\n",
              "    </tr>\n",
              "    <tr>\n",
              "      <th>2024-02-16 13:30:00-05:00</th>\n",
              "      <td>797.400024</td>\n",
              "      <td>797.840027</td>\n",
              "      <td>796.690002</td>\n",
              "      <td>797.625000</td>\n",
              "      <td>797.427936</td>\n",
              "      <td>-0.364800</td>\n",
              "      <td>57.737033</td>\n",
              "      <td>0.400024</td>\n",
              "      <td>0.590027</td>\n",
              "    </tr>\n",
              "    <tr>\n",
              "      <th>2024-02-16 14:30:00-05:00</th>\n",
              "      <td>797.429993</td>\n",
              "      <td>797.440002</td>\n",
              "      <td>792.109985</td>\n",
              "      <td>793.830017</td>\n",
              "      <td>797.081940</td>\n",
              "      <td>-0.529835</td>\n",
              "      <td>49.726388</td>\n",
              "      <td>-0.195007</td>\n",
              "      <td>0.029968</td>\n",
              "    </tr>\n",
              "    <tr>\n",
              "      <th>2024-02-16 15:30:00-05:00</th>\n",
              "      <td>794.390015</td>\n",
              "      <td>794.570007</td>\n",
              "      <td>791.239990</td>\n",
              "      <td>794.109985</td>\n",
              "      <td>796.662830</td>\n",
              "      <td>-0.589824</td>\n",
              "      <td>50.291713</td>\n",
              "      <td>0.559998</td>\n",
              "      <td>-3.039978</td>\n",
              "    </tr>\n",
              "    <tr>\n",
              "      <th>2024-02-20 09:30:00-05:00</th>\n",
              "      <td>789.280029</td>\n",
              "      <td>797.409973</td>\n",
              "      <td>787.570007</td>\n",
              "      <td>796.419983</td>\n",
              "      <td>796.209827</td>\n",
              "      <td>-0.329650</td>\n",
              "      <td>54.937252</td>\n",
              "      <td>-4.829956</td>\n",
              "      <td>-5.109985</td>\n",
              "    </tr>\n",
              "    <tr>\n",
              "      <th>2024-02-20 10:30:00-05:00</th>\n",
              "      <td>796.405029</td>\n",
              "      <td>801.309998</td>\n",
              "      <td>795.684998</td>\n",
              "      <td>800.630005</td>\n",
              "      <td>796.333997</td>\n",
              "      <td>0.074622</td>\n",
              "      <td>62.108287</td>\n",
              "      <td>-0.014954</td>\n",
              "      <td>7.125000</td>\n",
              "    </tr>\n",
              "  </tbody>\n",
              "</table>\n",
              "<p>5071 rows × 9 columns</p>\n",
              "</div>"
            ],
            "text/plain": [
              "                                 Open        High         Low       Close  \\\n",
              "Datetime                                                                    \n",
              "2021-03-30 13:30:00-04:00  751.200012  751.429993  749.440002  750.640015   \n",
              "2021-03-30 14:30:00-04:00  750.820007  752.489990  750.140015  751.760010   \n",
              "2021-03-30 15:30:00-04:00  751.784973  752.380005  746.960022  748.630005   \n",
              "2021-03-31 09:30:00-04:00  749.969971  755.599976  748.849976  754.969971   \n",
              "2021-03-31 10:30:00-04:00  754.156372  757.750000  754.020020  755.770020   \n",
              "...                               ...         ...         ...         ...   \n",
              "2024-02-16 13:30:00-05:00  797.400024  797.840027  796.690002  797.625000   \n",
              "2024-02-16 14:30:00-05:00  797.429993  797.440002  792.109985  793.830017   \n",
              "2024-02-16 15:30:00-05:00  794.390015  794.570007  791.239990  794.109985   \n",
              "2024-02-20 09:30:00-05:00  789.280029  797.409973  787.570007  796.419983   \n",
              "2024-02-20 10:30:00-05:00  796.405029  801.309998  795.684998  800.630005   \n",
              "\n",
              "                                 S_10      Corr        RSI  Open-Close  \\\n",
              "Datetime                                                                 \n",
              "2021-03-30 13:30:00-04:00  755.515497 -0.180783  53.269376    0.080017   \n",
              "2021-03-30 14:30:00-04:00  755.342499 -0.464396  55.530025    0.179993   \n",
              "2021-03-30 15:30:00-04:00  754.605499 -0.552108  48.277885    0.024963   \n",
              "2021-03-31 09:30:00-04:00  754.345496 -0.621859  60.026985    1.339966   \n",
              "2021-03-31 10:30:00-04:00  753.798499 -0.388061  61.260844   -0.813599   \n",
              "...                               ...       ...        ...         ...   \n",
              "2024-02-16 13:30:00-05:00  797.427936 -0.364800  57.737033    0.400024   \n",
              "2024-02-16 14:30:00-05:00  797.081940 -0.529835  49.726388   -0.195007   \n",
              "2024-02-16 15:30:00-05:00  796.662830 -0.589824  50.291713    0.559998   \n",
              "2024-02-20 09:30:00-05:00  796.209827 -0.329650  54.937252   -4.829956   \n",
              "2024-02-20 10:30:00-05:00  796.333997  0.074622  62.108287   -0.014954   \n",
              "\n",
              "                           Open-Open  \n",
              "Datetime                              \n",
              "2021-03-30 13:30:00-04:00  -1.880005  \n",
              "2021-03-30 14:30:00-04:00  -0.380005  \n",
              "2021-03-30 15:30:00-04:00   0.964966  \n",
              "2021-03-31 09:30:00-04:00  -1.815002  \n",
              "2021-03-31 10:30:00-04:00   4.186401  \n",
              "...                              ...  \n",
              "2024-02-16 13:30:00-05:00   0.590027  \n",
              "2024-02-16 14:30:00-05:00   0.029968  \n",
              "2024-02-16 15:30:00-05:00  -3.039978  \n",
              "2024-02-20 09:30:00-05:00  -5.109985  \n",
              "2024-02-20 10:30:00-05:00   7.125000  \n",
              "\n",
              "[5071 rows x 9 columns]"
            ]
          },
          "execution_count": 5,
          "metadata": {},
          "output_type": "execute_result"
        }
      ],
      "source": [
        "X"
      ]
    },
    {
      "cell_type": "code",
      "execution_count": null,
      "id": "3ee21a8d-a26d-489b-8f34-37cb7c1a7cc3",
      "metadata": {
        "id": "3ee21a8d-a26d-489b-8f34-37cb7c1a7cc3"
      },
      "outputs": [],
      "source": [
        "y = np.where(st_df['Close'].shift(-1) > st_df['Close'],1,-1)"
      ]
    },
    {
      "cell_type": "code",
      "execution_count": null,
      "id": "cd5c0209-9ac2-49a4-b97f-bb01c2474a1e",
      "metadata": {
        "id": "cd5c0209-9ac2-49a4-b97f-bb01c2474a1e"
      },
      "outputs": [],
      "source": [
        "split = int(0.7*len(st_df))\n",
        "X_train, X_test, y_train, y_test = X[:split], X[split:], y[:split], y[split:]"
      ]
    },
    {
      "cell_type": "code",
      "execution_count": null,
      "id": "de2e17db-b434-441f-ba83-c9c5ac59db52",
      "metadata": {
        "id": "de2e17db-b434-441f-ba83-c9c5ac59db52"
      },
      "outputs": [],
      "source": [
        "model = LogisticRegression()\n",
        "model = model.fit(X_train,y_train)"
      ]
    },
    {
      "cell_type": "code",
      "execution_count": null,
      "id": "bc726c98-8849-45fb-9056-0c985ccc780a",
      "metadata": {
        "id": "bc726c98-8849-45fb-9056-0c985ccc780a",
        "outputId": "1ce14a7d-c601-4c59-a4bf-43072674c9c7"
      },
      "outputs": [
        {
          "data": {
            "text/html": [
              "<div>\n",
              "<style scoped>\n",
              "    .dataframe tbody tr th:only-of-type {\n",
              "        vertical-align: middle;\n",
              "    }\n",
              "\n",
              "    .dataframe tbody tr th {\n",
              "        vertical-align: top;\n",
              "    }\n",
              "\n",
              "    .dataframe thead th {\n",
              "        text-align: right;\n",
              "    }\n",
              "</style>\n",
              "<table border=\"1\" class=\"dataframe\">\n",
              "  <thead>\n",
              "    <tr style=\"text-align: right;\">\n",
              "      <th></th>\n",
              "      <th>0</th>\n",
              "      <th>1</th>\n",
              "    </tr>\n",
              "  </thead>\n",
              "  <tbody>\n",
              "    <tr>\n",
              "      <th>0</th>\n",
              "      <td>Open</td>\n",
              "      <td>[0.003339017851364694]</td>\n",
              "    </tr>\n",
              "    <tr>\n",
              "      <th>1</th>\n",
              "      <td>High</td>\n",
              "      <td>[0.014140308305374015]</td>\n",
              "    </tr>\n",
              "    <tr>\n",
              "      <th>2</th>\n",
              "      <td>Low</td>\n",
              "      <td>[-0.015287926889317599]</td>\n",
              "    </tr>\n",
              "    <tr>\n",
              "      <th>3</th>\n",
              "      <td>Close</td>\n",
              "      <td>[0.0021187280891913456]</td>\n",
              "    </tr>\n",
              "    <tr>\n",
              "      <th>4</th>\n",
              "      <td>S_10</td>\n",
              "      <td>[-0.004469500256122857]</td>\n",
              "    </tr>\n",
              "    <tr>\n",
              "      <th>5</th>\n",
              "      <td>Corr</td>\n",
              "      <td>[-0.0067056796240784694]</td>\n",
              "    </tr>\n",
              "    <tr>\n",
              "      <th>6</th>\n",
              "      <td>RSI</td>\n",
              "      <td>[0.0007978305336544585]</td>\n",
              "    </tr>\n",
              "    <tr>\n",
              "      <th>7</th>\n",
              "      <td>Open-Close</td>\n",
              "      <td>[0.021515309339308727]</td>\n",
              "    </tr>\n",
              "    <tr>\n",
              "      <th>8</th>\n",
              "      <td>Open-Open</td>\n",
              "      <td>[-0.005900905723916535]</td>\n",
              "    </tr>\n",
              "  </tbody>\n",
              "</table>\n",
              "</div>"
            ],
            "text/plain": [
              "            0                         1\n",
              "0        Open    [0.003339017851364694]\n",
              "1        High    [0.014140308305374015]\n",
              "2         Low   [-0.015287926889317599]\n",
              "3       Close   [0.0021187280891913456]\n",
              "4        S_10   [-0.004469500256122857]\n",
              "5        Corr  [-0.0067056796240784694]\n",
              "6         RSI   [0.0007978305336544585]\n",
              "7  Open-Close    [0.021515309339308727]\n",
              "8   Open-Open   [-0.005900905723916535]"
            ]
          },
          "execution_count": 9,
          "metadata": {},
          "output_type": "execute_result"
        }
      ],
      "source": [
        "pd.DataFrame(zip(X.columns, np.transpose(model.coef_)))"
      ]
    },
    {
      "cell_type": "code",
      "execution_count": null,
      "id": "e61d7012-89d7-4ce9-998b-864e6c7f4d5d",
      "metadata": {
        "id": "e61d7012-89d7-4ce9-998b-864e6c7f4d5d",
        "outputId": "e89d0684-36dc-4d61-9224-e4b4fb2a728f"
      },
      "outputs": [
        {
          "name": "stdout",
          "output_type": "stream",
          "text": [
            "[[0.50962277 0.49037723]\n",
            " [0.5033769  0.4966231 ]\n",
            " [0.49796543 0.50203457]\n",
            " ...\n",
            " [0.50330344 0.49669656]\n",
            " [0.5072202  0.4927798 ]\n",
            " [0.50780739 0.49219261]]\n"
          ]
        }
      ],
      "source": [
        "probability = model.predict_proba(X_test)\n",
        "print(probability)"
      ]
    },
    {
      "cell_type": "code",
      "execution_count": null,
      "id": "a8c6e593-88ee-4907-aa88-9640bc874b63",
      "metadata": {
        "id": "a8c6e593-88ee-4907-aa88-9640bc874b63",
        "outputId": "a62a84f1-a6f3-42c8-c9be-fd9b73af1351"
      },
      "outputs": [
        {
          "data": {
            "text/plain": [
              "array([-1, -1,  1, ..., -1, -1, -1])"
            ]
          },
          "execution_count": 11,
          "metadata": {},
          "output_type": "execute_result"
        }
      ],
      "source": [
        "predicted = model.predict(X_test)\n",
        "predicted"
      ]
    },
    {
      "cell_type": "code",
      "execution_count": null,
      "id": "371901dc-2bcd-4753-94ea-ac5c6f77da50",
      "metadata": {
        "id": "371901dc-2bcd-4753-94ea-ac5c6f77da50",
        "outputId": "386705c6-af37-48da-a8fa-18395ffa26e4"
      },
      "outputs": [
        {
          "name": "stdout",
          "output_type": "stream",
          "text": [
            "\n",
            "Date(s) with Buy Signal(s):\n",
            "DatetimeIndex(['2023-04-06 09:30:00-04:00', '2023-04-10 12:30:00-04:00',\n",
            "               '2023-04-11 09:30:00-04:00', '2023-04-11 10:30:00-04:00',\n",
            "               '2023-04-11 11:30:00-04:00', '2023-04-11 13:30:00-04:00',\n",
            "               '2023-04-11 14:30:00-04:00', '2023-04-11 15:30:00-04:00',\n",
            "               '2023-04-12 09:30:00-04:00', '2023-04-12 10:30:00-04:00',\n",
            "               ...\n",
            "               '2024-02-09 11:30:00-05:00', '2024-02-12 09:30:00-05:00',\n",
            "               '2024-02-12 10:30:00-05:00', '2024-02-12 13:30:00-05:00',\n",
            "               '2024-02-14 09:30:00-05:00', '2024-02-14 10:30:00-05:00',\n",
            "               '2024-02-14 11:30:00-05:00', '2024-02-15 09:30:00-05:00',\n",
            "               '2024-02-15 11:30:00-05:00', '2024-02-15 13:30:00-05:00'],\n",
            "              dtype='datetime64[ns, America/New_York]', name='Datetime', length=424, freq=None)\n"
          ]
        }
      ],
      "source": [
        "# Find the dates with predicted buy signals (Signal = 1)\n",
        "dates_of_prediction = X_test.index\n",
        "buy_signal_dates = dates_of_prediction[predicted == 1]\n",
        "\n",
        "# Print the date(s) with buy signal(s)\n",
        "print(\"\\nDate(s) with Buy Signal(s):\")\n",
        "print(buy_signal_dates)"
      ]
    },
    {
      "cell_type": "code",
      "execution_count": null,
      "id": "98c5240a-14b9-4434-8b91-8b32bb227626",
      "metadata": {
        "id": "98c5240a-14b9-4434-8b91-8b32bb227626",
        "outputId": "8756ca9a-641f-4bb5-9656-40536dedcbb8"
      },
      "outputs": [
        {
          "name": "stdout",
          "output_type": "stream",
          "text": [
            "[[543 201]\n",
            " [555 223]]\n"
          ]
        }
      ],
      "source": [
        "print(metrics.confusion_matrix(y_test, predicted))"
      ]
    },
    {
      "cell_type": "code",
      "execution_count": null,
      "id": "dae777ca-ec3a-4d15-b755-96cfa00dba51",
      "metadata": {
        "id": "dae777ca-ec3a-4d15-b755-96cfa00dba51",
        "outputId": "6e0a3092-f5b8-4a9e-f2b3-83f6150870d0"
      },
      "outputs": [
        {
          "name": "stdout",
          "output_type": "stream",
          "text": [
            "              precision    recall  f1-score   support\n",
            "\n",
            "          -1       0.49      0.73      0.59       744\n",
            "           1       0.53      0.29      0.37       778\n",
            "\n",
            "    accuracy                           0.50      1522\n",
            "   macro avg       0.51      0.51      0.48      1522\n",
            "weighted avg       0.51      0.50      0.48      1522\n",
            "\n"
          ]
        }
      ],
      "source": [
        "print(metrics.classification_report(y_test, predicted))"
      ]
    },
    {
      "cell_type": "code",
      "execution_count": null,
      "id": "c6899ca5-fbf8-4c83-a404-b56db8d6fc86",
      "metadata": {
        "id": "c6899ca5-fbf8-4c83-a404-b56db8d6fc86",
        "outputId": "454e9502-aa60-40f1-d7c2-c9a342a4c5c3"
      },
      "outputs": [
        {
          "name": "stdout",
          "output_type": "stream",
          "text": [
            "0.5032851511169514\n"
          ]
        }
      ],
      "source": [
        "model1 = model.score(X_test,y_test)\n",
        "print(model.score(X_test,y_test))"
      ]
    },
    {
      "cell_type": "code",
      "execution_count": null,
      "id": "8a684ba9-9e26-4043-aec6-75266db94a4c",
      "metadata": {
        "id": "8a684ba9-9e26-4043-aec6-75266db94a4c",
        "outputId": "6f454548-56ed-488c-d562-87de40d8890c"
      },
      "outputs": [
        {
          "data": {
            "image/png": "[encoded data removed]",
            "text/plain": [
              "<Figure size 1000x500 with 1 Axes>"
            ]
          },
          "metadata": {},
          "output_type": "display_data"
        }
      ],
      "source": [
        "st_df['Predicted_Signal'] = model.predict(X)\n",
        "st_df['Stock_returns'] = np.log(st_df['Close']/st_df['Close'].shift(1))\n",
        "Cumulative_Stock_returns1 = np.exp(np.cumsum(st_df[split:]['Stock_returns']))\n",
        "\n",
        "\n",
        "st_df['Strategy_returns'] = st_df['Stock_returns']* st_df['Predicted_Signal'].shift(1)\n",
        "Cumulative_Strategy_returns1 = np.exp(np.cumsum(st_df[split:]['Strategy_returns']))\n",
        "\n",
        "Csr = Cumulative_Stock_returns1.iloc[-1]\n",
        "Cstr = Cumulative_Strategy_returns1.iloc[-1]\n",
        "\n",
        "plt.figure(figsize=(10,5))\n",
        "plt.plot(Cumulative_Stock_returns1, color='r', label = 'Stock Returns')\n",
        "plt.plot(Cumulative_Strategy_returns1, color='y', label = 'Strategy Returns')\n",
        "plt.legend()\n",
        "plt.show()"
      ]
    },
    {
      "cell_type": "code",
      "execution_count": null,
      "id": "9950a7c2-93c8-4ea1-a8f3-8bd68c0517b3",
      "metadata": {
        "id": "9950a7c2-93c8-4ea1-a8f3-8bd68c0517b3",
        "outputId": "9c6bc67f-16ac-4f8d-c1f6-2a1e60f30edb"
      },
      "outputs": [
        {
          "name": "stdout",
          "output_type": "stream",
          "text": [
            "1.2228026038683626\n",
            "0.9985381949776182\n"
          ]
        }
      ],
      "source": [
        "print(Cumulative_Stock_returns1.iloc[-1])\n",
        "print(Cumulative_Strategy_returns1.iloc[-1])"
      ]
    },
    {
      "cell_type": "markdown",
      "id": "a7c88600-2901-4047-ab84-f4622f1abaa0",
      "metadata": {
        "id": "a7c88600-2901-4047-ab84-f4622f1abaa0"
      },
      "source": [
        "b) เพิ่ม feature (column) ต่างๆ ที่เราสนใจ จากนั้นให้ทำซ้ำตามข้อ (a.) แล้วแสดงผลลัพธ์ของกราฟเปรียบเทียบกับกราฟในข้อ a."
      ]
    },
    {
      "cell_type": "code",
      "execution_count": null,
      "id": "af6c11c9-ed23-438a-920e-be4ff0415632",
      "metadata": {
        "id": "af6c11c9-ed23-438a-920e-be4ff0415632"
      },
      "outputs": [],
      "source": [
        "st_df2 = st_df.copy()"
      ]
    },
    {
      "cell_type": "code",
      "execution_count": null,
      "id": "5b4f253d-1f08-4f5e-a5ef-74f15499e144",
      "metadata": {
        "id": "5b4f253d-1f08-4f5e-a5ef-74f15499e144"
      },
      "outputs": [],
      "source": [
        "st_df2.drop(columns=['Strategy_returns','Predicted_Signal','Open-Close','Open-Open'],inplace=True)"
      ]
    },
    {
      "cell_type": "code",
      "execution_count": null,
      "id": "8a9eec84-b94d-4efa-8cb7-2b3ef0772ef9",
      "metadata": {
        "id": "8a9eec84-b94d-4efa-8cb7-2b3ef0772ef9"
      },
      "outputs": [],
      "source": [
        "st_df2['RSI_'] = ta.RSI(np.array(st_df2['Close']), timeperiod =14)\n",
        "st_df2['CloseY'] = st_df2.Close.shift(1)\n",
        "st_df2['Open-Close'] = st_df2['Open'] - st_df2['CloseY']\n",
        "st_df2['S_5'] = st_df2['Close'].rolling(window=5).mean()\n",
        "st_df2['Lag_ret1'] = st_df2['Stock_returns'].shift(1)\n",
        "st_df2['Lag_ret2'] = st_df2['Stock_returns'].shift(2)\n",
        "st_df2.dropna(inplace=True)\n",
        "feature = ['RSI_','Open-Close','S_5','Lag_ret1','Lag_ret2']\n",
        "X = st_df2.loc[:,feature]\n"
      ]
    },
    {
      "cell_type": "code",
      "execution_count": null,
      "id": "4d494319-7328-43cf-961f-9df27a89ddef",
      "metadata": {
        "id": "4d494319-7328-43cf-961f-9df27a89ddef",
        "outputId": "d9ce21b2-1018-4fd3-e852-c5005a975876"
      },
      "outputs": [
        {
          "data": {
            "text/html": [
              "<div>\n",
              "<style scoped>\n",
              "    .dataframe tbody tr th:only-of-type {\n",
              "        vertical-align: middle;\n",
              "    }\n",
              "\n",
              "    .dataframe tbody tr th {\n",
              "        vertical-align: top;\n",
              "    }\n",
              "\n",
              "    .dataframe thead th {\n",
              "        text-align: right;\n",
              "    }\n",
              "</style>\n",
              "<table border=\"1\" class=\"dataframe\">\n",
              "  <thead>\n",
              "    <tr style=\"text-align: right;\">\n",
              "      <th></th>\n",
              "      <th>RSI_</th>\n",
              "      <th>Open-Close</th>\n",
              "      <th>S_5</th>\n",
              "      <th>Lag_ret1</th>\n",
              "      <th>Lag_ret2</th>\n",
              "    </tr>\n",
              "    <tr>\n",
              "      <th>Datetime</th>\n",
              "      <th></th>\n",
              "      <th></th>\n",
              "      <th></th>\n",
              "      <th></th>\n",
              "      <th></th>\n",
              "    </tr>\n",
              "  </thead>\n",
              "  <tbody>\n",
              "    <tr>\n",
              "      <th>2021-04-01 13:30:00-04:00</th>\n",
              "      <td>68.041705</td>\n",
              "      <td>0.075012</td>\n",
              "      <td>764.290002</td>\n",
              "      <td>-0.002161</td>\n",
              "      <td>0.005376</td>\n",
              "    </tr>\n",
              "    <tr>\n",
              "      <th>2021-04-01 14:30:00-04:00</th>\n",
              "      <td>68.284732</td>\n",
              "      <td>0.034058</td>\n",
              "      <td>764.575000</td>\n",
              "      <td>-0.000765</td>\n",
              "      <td>-0.002161</td>\n",
              "    </tr>\n",
              "    <tr>\n",
              "      <th>2021-04-01 15:30:00-04:00</th>\n",
              "      <td>70.578538</td>\n",
              "      <td>-0.639954</td>\n",
              "      <td>765.516992</td>\n",
              "      <td>0.000353</td>\n",
              "      <td>-0.000765</td>\n",
              "    </tr>\n",
              "    <tr>\n",
              "      <th>2021-04-05 09:30:00-04:00</th>\n",
              "      <td>79.012662</td>\n",
              "      <td>5.280029</td>\n",
              "      <td>768.288989</td>\n",
              "      <td>0.003356</td>\n",
              "      <td>0.000353</td>\n",
              "    </tr>\n",
              "    <tr>\n",
              "      <th>2021-04-05 10:30:00-04:00</th>\n",
              "      <td>80.402015</td>\n",
              "      <td>0.070007</td>\n",
              "      <td>772.000989</td>\n",
              "      <td>0.017137</td>\n",
              "      <td>0.003356</td>\n",
              "    </tr>\n",
              "    <tr>\n",
              "      <th>...</th>\n",
              "      <td>...</td>\n",
              "      <td>...</td>\n",
              "      <td>...</td>\n",
              "      <td>...</td>\n",
              "      <td>...</td>\n",
              "    </tr>\n",
              "    <tr>\n",
              "      <th>2024-02-16 13:30:00-05:00</th>\n",
              "      <td>56.254664</td>\n",
              "      <td>0.400024</td>\n",
              "      <td>796.029993</td>\n",
              "      <td>0.000238</td>\n",
              "      <td>0.000176</td>\n",
              "    </tr>\n",
              "    <tr>\n",
              "      <th>2024-02-16 14:30:00-05:00</th>\n",
              "      <td>50.911038</td>\n",
              "      <td>-0.195007</td>\n",
              "      <td>796.387000</td>\n",
              "      <td>0.000784</td>\n",
              "      <td>0.000238</td>\n",
              "    </tr>\n",
              "    <tr>\n",
              "      <th>2024-02-16 15:30:00-05:00</th>\n",
              "      <td>51.278726</td>\n",
              "      <td>0.559998</td>\n",
              "      <td>795.875000</td>\n",
              "      <td>-0.004769</td>\n",
              "      <td>0.000784</td>\n",
              "    </tr>\n",
              "    <tr>\n",
              "      <th>2024-02-20 09:30:00-05:00</th>\n",
              "      <td>54.319041</td>\n",
              "      <td>-4.829956</td>\n",
              "      <td>795.796997</td>\n",
              "      <td>0.000353</td>\n",
              "      <td>-0.004769</td>\n",
              "    </tr>\n",
              "    <tr>\n",
              "      <th>2024-02-20 10:30:00-05:00</th>\n",
              "      <td>59.303465</td>\n",
              "      <td>-0.014954</td>\n",
              "      <td>796.522998</td>\n",
              "      <td>0.002905</td>\n",
              "      <td>0.000353</td>\n",
              "    </tr>\n",
              "  </tbody>\n",
              "</table>\n",
              "<p>5057 rows × 5 columns</p>\n",
              "</div>"
            ],
            "text/plain": [
              "                                RSI_  Open-Close         S_5  Lag_ret1  \\\n",
              "Datetime                                                                 \n",
              "2021-04-01 13:30:00-04:00  68.041705    0.075012  764.290002 -0.002161   \n",
              "2021-04-01 14:30:00-04:00  68.284732    0.034058  764.575000 -0.000765   \n",
              "2021-04-01 15:30:00-04:00  70.578538   -0.639954  765.516992  0.000353   \n",
              "2021-04-05 09:30:00-04:00  79.012662    5.280029  768.288989  0.003356   \n",
              "2021-04-05 10:30:00-04:00  80.402015    0.070007  772.000989  0.017137   \n",
              "...                              ...         ...         ...       ...   \n",
              "2024-02-16 13:30:00-05:00  56.254664    0.400024  796.029993  0.000238   \n",
              "2024-02-16 14:30:00-05:00  50.911038   -0.195007  796.387000  0.000784   \n",
              "2024-02-16 15:30:00-05:00  51.278726    0.559998  795.875000 -0.004769   \n",
              "2024-02-20 09:30:00-05:00  54.319041   -4.829956  795.796997  0.000353   \n",
              "2024-02-20 10:30:00-05:00  59.303465   -0.014954  796.522998  0.002905   \n",
              "\n",
              "                           Lag_ret2  \n",
              "Datetime                             \n",
              "2021-04-01 13:30:00-04:00  0.005376  \n",
              "2021-04-01 14:30:00-04:00 -0.002161  \n",
              "2021-04-01 15:30:00-04:00 -0.000765  \n",
              "2021-04-05 09:30:00-04:00  0.000353  \n",
              "2021-04-05 10:30:00-04:00  0.003356  \n",
              "...                             ...  \n",
              "2024-02-16 13:30:00-05:00  0.000176  \n",
              "2024-02-16 14:30:00-05:00  0.000238  \n",
              "2024-02-16 15:30:00-05:00  0.000784  \n",
              "2024-02-20 09:30:00-05:00 -0.004769  \n",
              "2024-02-20 10:30:00-05:00  0.000353  \n",
              "\n",
              "[5057 rows x 5 columns]"
            ]
          },
          "execution_count": 21,
          "metadata": {},
          "output_type": "execute_result"
        }
      ],
      "source": [
        "X"
      ]
    },
    {
      "cell_type": "code",
      "execution_count": null,
      "id": "bf5e1468-d2dc-46ed-8071-1cc6901453c5",
      "metadata": {
        "id": "bf5e1468-d2dc-46ed-8071-1cc6901453c5"
      },
      "outputs": [],
      "source": [
        "y = np.where(st_df2['Close'].shift(-1) > st_df2['Close'],1,-1)"
      ]
    },
    {
      "cell_type": "code",
      "execution_count": null,
      "id": "428565c9-dbac-4331-9728-831a7abf2e08",
      "metadata": {
        "id": "428565c9-dbac-4331-9728-831a7abf2e08"
      },
      "outputs": [],
      "source": [
        "split = int(0.7*len(st_df2))\n",
        "X_train, X_test, y_train, y_test = X[:split], X[split:], y[:split], y[split:]"
      ]
    },
    {
      "cell_type": "code",
      "execution_count": null,
      "id": "bf8d6f3b-104a-4cad-9ac3-39f771270fc6",
      "metadata": {
        "id": "bf8d6f3b-104a-4cad-9ac3-39f771270fc6"
      },
      "outputs": [],
      "source": [
        "model = LogisticRegression()\n",
        "model = model.fit (X_train,y_train)"
      ]
    },
    {
      "cell_type": "code",
      "execution_count": null,
      "id": "b352b28a-2b06-4667-943c-ed5226959002",
      "metadata": {
        "id": "b352b28a-2b06-4667-943c-ed5226959002",
        "outputId": "ad682b6d-a397-48c8-90ca-572202722321"
      },
      "outputs": [
        {
          "data": {
            "text/html": [
              "<div>\n",
              "<style scoped>\n",
              "    .dataframe tbody tr th:only-of-type {\n",
              "        vertical-align: middle;\n",
              "    }\n",
              "\n",
              "    .dataframe tbody tr th {\n",
              "        vertical-align: top;\n",
              "    }\n",
              "\n",
              "    .dataframe thead th {\n",
              "        text-align: right;\n",
              "    }\n",
              "</style>\n",
              "<table border=\"1\" class=\"dataframe\">\n",
              "  <thead>\n",
              "    <tr style=\"text-align: right;\">\n",
              "      <th></th>\n",
              "      <th>0</th>\n",
              "      <th>1</th>\n",
              "    </tr>\n",
              "  </thead>\n",
              "  <tbody>\n",
              "    <tr>\n",
              "      <th>0</th>\n",
              "      <td>RSI_</td>\n",
              "      <td>[0.0025926899959169574]</td>\n",
              "    </tr>\n",
              "    <tr>\n",
              "      <th>1</th>\n",
              "      <td>Open-Close</td>\n",
              "      <td>[0.018479886115564587]</td>\n",
              "    </tr>\n",
              "    <tr>\n",
              "      <th>2</th>\n",
              "      <td>S_5</td>\n",
              "      <td>[-0.00017422882365445422]</td>\n",
              "    </tr>\n",
              "    <tr>\n",
              "      <th>3</th>\n",
              "      <td>Lag_ret1</td>\n",
              "      <td>[-4.597775346688636e-05]</td>\n",
              "    </tr>\n",
              "    <tr>\n",
              "      <th>4</th>\n",
              "      <td>Lag_ret2</td>\n",
              "      <td>[-1.60188462378894e-05]</td>\n",
              "    </tr>\n",
              "  </tbody>\n",
              "</table>\n",
              "</div>"
            ],
            "text/plain": [
              "            0                          1\n",
              "0        RSI_    [0.0025926899959169574]\n",
              "1  Open-Close     [0.018479886115564587]\n",
              "2         S_5  [-0.00017422882365445422]\n",
              "3    Lag_ret1   [-4.597775346688636e-05]\n",
              "4    Lag_ret2    [-1.60188462378894e-05]"
            ]
          },
          "execution_count": 25,
          "metadata": {},
          "output_type": "execute_result"
        }
      ],
      "source": [
        "pd.DataFrame(zip(X.columns, np.transpose(model.coef_)))"
      ]
    },
    {
      "cell_type": "code",
      "execution_count": null,
      "id": "d94fa98c-a762-4cf8-88f9-8ef0d6e00f73",
      "metadata": {
        "id": "d94fa98c-a762-4cf8-88f9-8ef0d6e00f73",
        "outputId": "9c7861a4-26f8-4420-967e-17771337a7ca"
      },
      "outputs": [
        {
          "name": "stdout",
          "output_type": "stream",
          "text": [
            "[[0.4990512  0.5009488 ]\n",
            " [0.49383936 0.50616064]\n",
            " [0.4972597  0.5027403 ]\n",
            " ...\n",
            " [0.49890981 0.50109019]\n",
            " [0.52182335 0.47817665]\n",
            " [0.49639302 0.50360698]]\n"
          ]
        }
      ],
      "source": [
        "probability = model.predict_proba(X_test)\n",
        "print(probability)"
      ]
    },
    {
      "cell_type": "code",
      "execution_count": null,
      "id": "eeb4f512-c4b3-4cb6-92fd-5062b83887de",
      "metadata": {
        "id": "eeb4f512-c4b3-4cb6-92fd-5062b83887de",
        "outputId": "dc40e4a7-a614-473e-9479-1951dcd46c6d"
      },
      "outputs": [
        {
          "data": {
            "text/plain": [
              "array([ 1,  1,  1, ...,  1, -1,  1])"
            ]
          },
          "execution_count": 27,
          "metadata": {},
          "output_type": "execute_result"
        }
      ],
      "source": [
        "predicted = model.predict(X_test)\n",
        "predicted"
      ]
    },
    {
      "cell_type": "code",
      "execution_count": null,
      "id": "49b3a5b0-d948-4cc0-ac7a-ffe8fbadf151",
      "metadata": {
        "id": "49b3a5b0-d948-4cc0-ac7a-ffe8fbadf151",
        "outputId": "a299386d-ea3c-4f4b-d69b-138b6e197554"
      },
      "outputs": [
        {
          "name": "stdout",
          "output_type": "stream",
          "text": [
            "\n",
            "Date(s) with Buy Signal(s):\n",
            "DatetimeIndex(['2023-04-06 11:30:00-04:00', '2023-04-06 12:30:00-04:00',\n",
            "               '2023-04-06 13:30:00-04:00', '2023-04-06 14:30:00-04:00',\n",
            "               '2023-04-06 15:30:00-04:00', '2023-04-10 10:30:00-04:00',\n",
            "               '2023-04-10 12:30:00-04:00', '2023-04-10 13:30:00-04:00',\n",
            "               '2023-04-10 14:30:00-04:00', '2023-04-10 15:30:00-04:00',\n",
            "               ...\n",
            "               '2024-02-15 12:30:00-05:00', '2024-02-15 13:30:00-05:00',\n",
            "               '2024-02-15 14:30:00-05:00', '2024-02-15 15:30:00-05:00',\n",
            "               '2024-02-16 10:30:00-05:00', '2024-02-16 11:30:00-05:00',\n",
            "               '2024-02-16 12:30:00-05:00', '2024-02-16 13:30:00-05:00',\n",
            "               '2024-02-16 15:30:00-05:00', '2024-02-20 10:30:00-05:00'],\n",
            "              dtype='datetime64[ns, America/New_York]', name='Datetime', length=898, freq=None)\n"
          ]
        }
      ],
      "source": [
        "dates_of_prediction = X_test.index\n",
        "buy_signal_dates = dates_of_prediction[predicted == 1]\n",
        "\n",
        "# Print the date(s) with buy signal(s)\n",
        "print(\"\\nDate(s) with Buy Signal(s):\")\n",
        "print(buy_signal_dates)"
      ]
    },
    {
      "cell_type": "code",
      "execution_count": null,
      "id": "7a77855c-cf80-40fe-aed8-9d8219b78425",
      "metadata": {
        "id": "7a77855c-cf80-40fe-aed8-9d8219b78425",
        "outputId": "5ac1d9a1-24bf-46c5-8c8a-3d0d8d20739c"
      },
      "outputs": [
        {
          "name": "stdout",
          "output_type": "stream",
          "text": [
            "[[328 414]\n",
            " [292 484]]\n"
          ]
        }
      ],
      "source": [
        "print(metrics.confusion_matrix(y_test, predicted))"
      ]
    },
    {
      "cell_type": "code",
      "execution_count": null,
      "id": "8b598e73-a76b-479e-ba41-118f6bacc2d9",
      "metadata": {
        "id": "8b598e73-a76b-479e-ba41-118f6bacc2d9",
        "outputId": "a7aed9db-91ee-4a55-af31-7e5871d55d83"
      },
      "outputs": [
        {
          "name": "stdout",
          "output_type": "stream",
          "text": [
            "              precision    recall  f1-score   support\n",
            "\n",
            "          -1       0.53      0.44      0.48       742\n",
            "           1       0.54      0.62      0.58       776\n",
            "\n",
            "    accuracy                           0.53      1518\n",
            "   macro avg       0.53      0.53      0.53      1518\n",
            "weighted avg       0.53      0.53      0.53      1518\n",
            "\n"
          ]
        }
      ],
      "source": [
        "print(metrics.classification_report(y_test, predicted))"
      ]
    },
    {
      "cell_type": "code",
      "execution_count": null,
      "id": "6899f028-4e5e-45ec-9e8f-b642b59cb657",
      "metadata": {
        "id": "6899f028-4e5e-45ec-9e8f-b642b59cb657",
        "outputId": "2fcd07ce-5d7f-4474-8758-8974dc48daa1"
      },
      "outputs": [
        {
          "name": "stdout",
          "output_type": "stream",
          "text": [
            "0.5349143610013175\n"
          ]
        }
      ],
      "source": [
        "model2 = model.score(X_test,y_test)\n",
        "print(model.score(X_test,y_test))"
      ]
    },
    {
      "cell_type": "code",
      "execution_count": null,
      "id": "d5dd632f-facf-4ea9-850e-d527e64deaa3",
      "metadata": {
        "id": "d5dd632f-facf-4ea9-850e-d527e64deaa3",
        "outputId": "b0d70179-7ee2-48e8-b7e2-6a7eac4d0979"
      },
      "outputs": [
        {
          "data": {
            "image/png": "[encoded data removed]",
            "text/plain": [
              "<Figure size 1000x500 with 1 Axes>"
            ]
          },
          "metadata": {},
          "output_type": "display_data"
        }
      ],
      "source": [
        "st_df2['Predicted_Signal'] = model.predict(X)\n",
        "st_df2['Stock_returns'] = np.log(st_df2['Close']/st_df2['Close'].shift(1))\n",
        "Cumulative_Stock_returns2 = np.exp(np.cumsum(st_df2[split:]['Stock_returns']))\n",
        "\n",
        "\n",
        "st_df2['Strategy_returns'] = st_df2['Stock_returns']* st_df2['Predicted_Signal'].shift(1)\n",
        "Cumulative_Strategy_returns2 = np.exp(np.cumsum(st_df2[split:]['Strategy_returns']))\n",
        "\n",
        "Csr2 = Cumulative_Stock_returns2.iloc[-1]\n",
        "Cstr2 = Cumulative_Strategy_returns2.iloc[-1]\n",
        "\n",
        "plt.figure(figsize=(10,5))\n",
        "plt.plot(Cumulative_Stock_returns2, color='r', label = 'Stock Returns')\n",
        "plt.plot(Cumulative_Strategy_returns2, color='b', label = 'Strategy Returns')\n",
        "plt.legend()\n",
        "plt.show()"
      ]
    },
    {
      "cell_type": "code",
      "execution_count": null,
      "id": "a150fe9c-ad46-440c-a0f5-ba4e2ad59379",
      "metadata": {
        "id": "a150fe9c-ad46-440c-a0f5-ba4e2ad59379",
        "outputId": "a9d3f411-d87c-4f05-b4aa-136bdb45fc79"
      },
      "outputs": [
        {
          "name": "stdout",
          "output_type": "stream",
          "text": [
            "Stock return 1: 1.2228026038683626\n",
            "Stock return 2: 1.219654502932695\n",
            "Strategy 1 return: 0.9985381949776182\n",
            "Strategy 2 return: 1.3589103240097744\n",
            "Model1 Score: 0.5032851511169514\n",
            "Model2 Score: 0.5349143610013175\n"
          ]
        }
      ],
      "source": [
        "print(f'Stock return 1: {Csr}')\n",
        "print(f'Stock return 2: {Csr2}')\n",
        "print(f'Strategy 1 return: {Cstr}')\n",
        "print(f'Strategy 2 return: {Cstr2}')\n",
        "print(f'Model1 Score: {model1}')\n",
        "print(f'Model2 Score: {model2}')"
      ]
    },
    {
      "cell_type": "markdown",
      "id": "a37a2698-dc64-48c9-90a4-32b34c077c37",
      "metadata": {
        "id": "a37a2698-dc64-48c9-90a4-32b34c077c37"
      },
      "source": [
        "# Build on first strategy"
      ]
    },
    {
      "cell_type": "code",
      "execution_count": null,
      "id": "97c91ae1-f8cb-4e36-bd91-9071626a5130",
      "metadata": {
        "id": "97c91ae1-f8cb-4e36-bd91-9071626a5130"
      },
      "outputs": [],
      "source": [
        "st_df3 = st_df.copy()\n",
        "st_df3.drop(columns=['Strategy_returns','Predicted_Signal',\"RSI\",\"S_10\",\"Corr\"],inplace=True)"
      ]
    },
    {
      "cell_type": "code",
      "execution_count": null,
      "id": "c5595f5c-e66f-48bc-b49f-ab3e2f9d78d7",
      "metadata": {
        "id": "c5595f5c-e66f-48bc-b49f-ab3e2f9d78d7"
      },
      "outputs": [],
      "source": [
        "st_df3['RSI14'] = ta.RSI(np.array(st_df3['Close']), timeperiod =14)\n",
        "st_df['S_5'] = st_df['Close'].rolling(window=5).mean()\n",
        "st_df['Corr'] = st_df['Close'].rolling(window=5).corr(st_df['S_5'])\n",
        "st_df3['CloseY'] = st_df2.Close.shift(1)\n",
        "st_df3['Open-CloseY'] = st_df3['Open'] - st_df3['CloseY']\n",
        "st_df3['Lag_ret1'] = st_df3['Stock_returns'].shift(1)\n",
        "st_df3['Lag_ret2'] = st_df3['Stock_returns'].shift(2)\n",
        "st_df3.dropna(inplace=True)\n",
        "st_df3.drop(columns=['Stock_returns'],inplace=True)\n",
        "X = st_df3"
      ]
    },
    {
      "cell_type": "code",
      "execution_count": null,
      "id": "a17d170a-389f-4af6-9ec8-62374cadf7d6",
      "metadata": {
        "id": "a17d170a-389f-4af6-9ec8-62374cadf7d6",
        "outputId": "8ff25980-f5bf-446c-83a8-36bbeb362299"
      },
      "outputs": [
        {
          "data": {
            "text/html": [
              "<div>\n",
              "<style scoped>\n",
              "    .dataframe tbody tr th:only-of-type {\n",
              "        vertical-align: middle;\n",
              "    }\n",
              "\n",
              "    .dataframe tbody tr th {\n",
              "        vertical-align: top;\n",
              "    }\n",
              "\n",
              "    .dataframe thead th {\n",
              "        text-align: right;\n",
              "    }\n",
              "</style>\n",
              "<table border=\"1\" class=\"dataframe\">\n",
              "  <thead>\n",
              "    <tr style=\"text-align: right;\">\n",
              "      <th></th>\n",
              "      <th>Open</th>\n",
              "      <th>High</th>\n",
              "      <th>Low</th>\n",
              "      <th>Close</th>\n",
              "      <th>Open-Close</th>\n",
              "      <th>Open-Open</th>\n",
              "      <th>RSI14</th>\n",
              "      <th>CloseY</th>\n",
              "      <th>Open-CloseY</th>\n",
              "      <th>Lag_ret1</th>\n",
              "      <th>Lag_ret2</th>\n",
              "    </tr>\n",
              "    <tr>\n",
              "      <th>Datetime</th>\n",
              "      <th></th>\n",
              "      <th></th>\n",
              "      <th></th>\n",
              "      <th></th>\n",
              "      <th></th>\n",
              "      <th></th>\n",
              "      <th></th>\n",
              "      <th></th>\n",
              "      <th></th>\n",
              "      <th></th>\n",
              "      <th></th>\n",
              "    </tr>\n",
              "  </thead>\n",
              "  <tbody>\n",
              "    <tr>\n",
              "      <th>2021-04-01 14:30:00-04:00</th>\n",
              "      <td>764.364075</td>\n",
              "      <td>766.575012</td>\n",
              "      <td>764.090027</td>\n",
              "      <td>764.599976</td>\n",
              "      <td>0.034058</td>\n",
              "      <td>-0.625916</td>\n",
              "      <td>68.284732</td>\n",
              "      <td>764.330017</td>\n",
              "      <td>0.034058</td>\n",
              "      <td>-0.000765</td>\n",
              "      <td>-0.002161</td>\n",
              "    </tr>\n",
              "    <tr>\n",
              "      <th>2021-04-01 15:30:00-04:00</th>\n",
              "      <td>763.960022</td>\n",
              "      <td>767.190002</td>\n",
              "      <td>762.750000</td>\n",
              "      <td>767.169983</td>\n",
              "      <td>-0.639954</td>\n",
              "      <td>-0.404053</td>\n",
              "      <td>70.578538</td>\n",
              "      <td>764.599976</td>\n",
              "      <td>-0.639954</td>\n",
              "      <td>0.000353</td>\n",
              "      <td>-0.000765</td>\n",
              "    </tr>\n",
              "    <tr>\n",
              "      <th>2021-04-05 09:30:00-04:00</th>\n",
              "      <td>772.450012</td>\n",
              "      <td>780.510010</td>\n",
              "      <td>771.830017</td>\n",
              "      <td>780.429993</td>\n",
              "      <td>5.280029</td>\n",
              "      <td>8.489990</td>\n",
              "      <td>79.012662</td>\n",
              "      <td>767.169983</td>\n",
              "      <td>5.280029</td>\n",
              "      <td>0.003356</td>\n",
              "      <td>0.000353</td>\n",
              "    </tr>\n",
              "    <tr>\n",
              "      <th>2021-04-05 10:30:00-04:00</th>\n",
              "      <td>780.500000</td>\n",
              "      <td>783.700012</td>\n",
              "      <td>779.500000</td>\n",
              "      <td>783.474976</td>\n",
              "      <td>0.070007</td>\n",
              "      <td>8.049988</td>\n",
              "      <td>80.402015</td>\n",
              "      <td>780.429993</td>\n",
              "      <td>0.070007</td>\n",
              "      <td>0.017137</td>\n",
              "      <td>0.003356</td>\n",
              "    </tr>\n",
              "    <tr>\n",
              "      <th>2021-04-05 11:30:00-04:00</th>\n",
              "      <td>783.719971</td>\n",
              "      <td>787.755005</td>\n",
              "      <td>783.609985</td>\n",
              "      <td>785.650024</td>\n",
              "      <td>0.244995</td>\n",
              "      <td>3.219971</td>\n",
              "      <td>81.351667</td>\n",
              "      <td>783.474976</td>\n",
              "      <td>0.244995</td>\n",
              "      <td>0.003894</td>\n",
              "      <td>0.017137</td>\n",
              "    </tr>\n",
              "    <tr>\n",
              "      <th>...</th>\n",
              "      <td>...</td>\n",
              "      <td>...</td>\n",
              "      <td>...</td>\n",
              "      <td>...</td>\n",
              "      <td>...</td>\n",
              "      <td>...</td>\n",
              "      <td>...</td>\n",
              "      <td>...</td>\n",
              "      <td>...</td>\n",
              "      <td>...</td>\n",
              "      <td>...</td>\n",
              "    </tr>\n",
              "    <tr>\n",
              "      <th>2024-02-16 13:30:00-05:00</th>\n",
              "      <td>797.400024</td>\n",
              "      <td>797.840027</td>\n",
              "      <td>796.690002</td>\n",
              "      <td>797.625000</td>\n",
              "      <td>0.400024</td>\n",
              "      <td>0.590027</td>\n",
              "      <td>56.254664</td>\n",
              "      <td>797.000000</td>\n",
              "      <td>0.400024</td>\n",
              "      <td>0.000238</td>\n",
              "      <td>0.000176</td>\n",
              "    </tr>\n",
              "    <tr>\n",
              "      <th>2024-02-16 14:30:00-05:00</th>\n",
              "      <td>797.429993</td>\n",
              "      <td>797.440002</td>\n",
              "      <td>792.109985</td>\n",
              "      <td>793.830017</td>\n",
              "      <td>-0.195007</td>\n",
              "      <td>0.029968</td>\n",
              "      <td>50.911038</td>\n",
              "      <td>797.625000</td>\n",
              "      <td>-0.195007</td>\n",
              "      <td>0.000784</td>\n",
              "      <td>0.000238</td>\n",
              "    </tr>\n",
              "    <tr>\n",
              "      <th>2024-02-16 15:30:00-05:00</th>\n",
              "      <td>794.390015</td>\n",
              "      <td>794.570007</td>\n",
              "      <td>791.239990</td>\n",
              "      <td>794.109985</td>\n",
              "      <td>0.559998</td>\n",
              "      <td>-3.039978</td>\n",
              "      <td>51.278726</td>\n",
              "      <td>793.830017</td>\n",
              "      <td>0.559998</td>\n",
              "      <td>-0.004769</td>\n",
              "      <td>0.000784</td>\n",
              "    </tr>\n",
              "    <tr>\n",
              "      <th>2024-02-20 09:30:00-05:00</th>\n",
              "      <td>789.280029</td>\n",
              "      <td>797.409973</td>\n",
              "      <td>787.570007</td>\n",
              "      <td>796.419983</td>\n",
              "      <td>-4.829956</td>\n",
              "      <td>-5.109985</td>\n",
              "      <td>54.319041</td>\n",
              "      <td>794.109985</td>\n",
              "      <td>-4.829956</td>\n",
              "      <td>0.000353</td>\n",
              "      <td>-0.004769</td>\n",
              "    </tr>\n",
              "    <tr>\n",
              "      <th>2024-02-20 10:30:00-05:00</th>\n",
              "      <td>796.405029</td>\n",
              "      <td>801.309998</td>\n",
              "      <td>795.684998</td>\n",
              "      <td>800.630005</td>\n",
              "      <td>-0.014954</td>\n",
              "      <td>7.125000</td>\n",
              "      <td>59.303465</td>\n",
              "      <td>796.419983</td>\n",
              "      <td>-0.014954</td>\n",
              "      <td>0.002905</td>\n",
              "      <td>0.000353</td>\n",
              "    </tr>\n",
              "  </tbody>\n",
              "</table>\n",
              "<p>5056 rows × 11 columns</p>\n",
              "</div>"
            ],
            "text/plain": [
              "                                 Open        High         Low       Close  \\\n",
              "Datetime                                                                    \n",
              "2021-04-01 14:30:00-04:00  764.364075  766.575012  764.090027  764.599976   \n",
              "2021-04-01 15:30:00-04:00  763.960022  767.190002  762.750000  767.169983   \n",
              "2021-04-05 09:30:00-04:00  772.450012  780.510010  771.830017  780.429993   \n",
              "2021-04-05 10:30:00-04:00  780.500000  783.700012  779.500000  783.474976   \n",
              "2021-04-05 11:30:00-04:00  783.719971  787.755005  783.609985  785.650024   \n",
              "...                               ...         ...         ...         ...   \n",
              "2024-02-16 13:30:00-05:00  797.400024  797.840027  796.690002  797.625000   \n",
              "2024-02-16 14:30:00-05:00  797.429993  797.440002  792.109985  793.830017   \n",
              "2024-02-16 15:30:00-05:00  794.390015  794.570007  791.239990  794.109985   \n",
              "2024-02-20 09:30:00-05:00  789.280029  797.409973  787.570007  796.419983   \n",
              "2024-02-20 10:30:00-05:00  796.405029  801.309998  795.684998  800.630005   \n",
              "\n",
              "                           Open-Close  Open-Open      RSI14      CloseY  \\\n",
              "Datetime                                                                  \n",
              "2021-04-01 14:30:00-04:00    0.034058  -0.625916  68.284732  764.330017   \n",
              "2021-04-01 15:30:00-04:00   -0.639954  -0.404053  70.578538  764.599976   \n",
              "2021-04-05 09:30:00-04:00    5.280029   8.489990  79.012662  767.169983   \n",
              "2021-04-05 10:30:00-04:00    0.070007   8.049988  80.402015  780.429993   \n",
              "2021-04-05 11:30:00-04:00    0.244995   3.219971  81.351667  783.474976   \n",
              "...                               ...        ...        ...         ...   \n",
              "2024-02-16 13:30:00-05:00    0.400024   0.590027  56.254664  797.000000   \n",
              "2024-02-16 14:30:00-05:00   -0.195007   0.029968  50.911038  797.625000   \n",
              "2024-02-16 15:30:00-05:00    0.559998  -3.039978  51.278726  793.830017   \n",
              "2024-02-20 09:30:00-05:00   -4.829956  -5.109985  54.319041  794.109985   \n",
              "2024-02-20 10:30:00-05:00   -0.014954   7.125000  59.303465  796.419983   \n",
              "\n",
              "                           Open-CloseY  Lag_ret1  Lag_ret2  \n",
              "Datetime                                                    \n",
              "2021-04-01 14:30:00-04:00     0.034058 -0.000765 -0.002161  \n",
              "2021-04-01 15:30:00-04:00    -0.639954  0.000353 -0.000765  \n",
              "2021-04-05 09:30:00-04:00     5.280029  0.003356  0.000353  \n",
              "2021-04-05 10:30:00-04:00     0.070007  0.017137  0.003356  \n",
              "2021-04-05 11:30:00-04:00     0.244995  0.003894  0.017137  \n",
              "...                                ...       ...       ...  \n",
              "2024-02-16 13:30:00-05:00     0.400024  0.000238  0.000176  \n",
              "2024-02-16 14:30:00-05:00    -0.195007  0.000784  0.000238  \n",
              "2024-02-16 15:30:00-05:00     0.559998 -0.004769  0.000784  \n",
              "2024-02-20 09:30:00-05:00    -4.829956  0.000353 -0.004769  \n",
              "2024-02-20 10:30:00-05:00    -0.014954  0.002905  0.000353  \n",
              "\n",
              "[5056 rows x 11 columns]"
            ]
          },
          "execution_count": 36,
          "metadata": {},
          "output_type": "execute_result"
        }
      ],
      "source": [
        "X"
      ]
    },
    {
      "cell_type": "code",
      "execution_count": null,
      "id": "ee54b5f4-14f2-4416-8328-0215327bc2ed",
      "metadata": {
        "id": "ee54b5f4-14f2-4416-8328-0215327bc2ed"
      },
      "outputs": [],
      "source": [
        "y = np.where(st_df3['Close'].shift(-1) > st_df3['Close'],1,-1)"
      ]
    },
    {
      "cell_type": "code",
      "execution_count": null,
      "id": "5a4c4146-0790-4fe2-8725-0e455a3d6835",
      "metadata": {
        "id": "5a4c4146-0790-4fe2-8725-0e455a3d6835"
      },
      "outputs": [],
      "source": [
        "split = int(0.7*len(st_df2))\n",
        "X_train, X_test, y_train, y_test = X[:split], X[split:], y[:split], y[split:]"
      ]
    },
    {
      "cell_type": "code",
      "execution_count": null,
      "id": "62844b9f-d84e-4067-840d-b6f6c6450675",
      "metadata": {
        "id": "62844b9f-d84e-4067-840d-b6f6c6450675"
      },
      "outputs": [],
      "source": [
        "model = LogisticRegression()\n",
        "model = model.fit (X_train,y_train)"
      ]
    },
    {
      "cell_type": "code",
      "execution_count": null,
      "id": "2f11575f-1128-4426-9a70-71bf2bda4e50",
      "metadata": {
        "id": "2f11575f-1128-4426-9a70-71bf2bda4e50",
        "outputId": "be7f1153-27f4-4fee-c920-c29d9b378488"
      },
      "outputs": [
        {
          "data": {
            "text/html": [
              "<div>\n",
              "<style scoped>\n",
              "    .dataframe tbody tr th:only-of-type {\n",
              "        vertical-align: middle;\n",
              "    }\n",
              "\n",
              "    .dataframe tbody tr th {\n",
              "        vertical-align: top;\n",
              "    }\n",
              "\n",
              "    .dataframe thead th {\n",
              "        text-align: right;\n",
              "    }\n",
              "</style>\n",
              "<table border=\"1\" class=\"dataframe\">\n",
              "  <thead>\n",
              "    <tr style=\"text-align: right;\">\n",
              "      <th></th>\n",
              "      <th>0</th>\n",
              "      <th>1</th>\n",
              "    </tr>\n",
              "  </thead>\n",
              "  <tbody>\n",
              "    <tr>\n",
              "      <th>0</th>\n",
              "      <td>Open</td>\n",
              "      <td>[0.005678111821324658]</td>\n",
              "    </tr>\n",
              "    <tr>\n",
              "      <th>1</th>\n",
              "      <td>High</td>\n",
              "      <td>[0.012460395000539772]</td>\n",
              "    </tr>\n",
              "    <tr>\n",
              "      <th>2</th>\n",
              "      <td>Low</td>\n",
              "      <td>[-0.013810953940200838]</td>\n",
              "    </tr>\n",
              "    <tr>\n",
              "      <th>3</th>\n",
              "      <td>Close</td>\n",
              "      <td>[-0.0005386420383693176]</td>\n",
              "    </tr>\n",
              "    <tr>\n",
              "      <th>4</th>\n",
              "      <td>Open-Close</td>\n",
              "      <td>[0.009762426705833277]</td>\n",
              "    </tr>\n",
              "    <tr>\n",
              "      <th>5</th>\n",
              "      <td>Open-Open</td>\n",
              "      <td>[-0.004329695683283902]</td>\n",
              "    </tr>\n",
              "    <tr>\n",
              "      <th>6</th>\n",
              "      <td>RSI14</td>\n",
              "      <td>[0.003001168976674664]</td>\n",
              "    </tr>\n",
              "    <tr>\n",
              "      <th>7</th>\n",
              "      <td>CloseY</td>\n",
              "      <td>[-0.004084314884487819]</td>\n",
              "    </tr>\n",
              "    <tr>\n",
              "      <th>8</th>\n",
              "      <td>Open-CloseY</td>\n",
              "      <td>[0.009762426705833277]</td>\n",
              "    </tr>\n",
              "    <tr>\n",
              "      <th>9</th>\n",
              "      <td>Lag_ret1</td>\n",
              "      <td>[-8.19588587511508e-05]</td>\n",
              "    </tr>\n",
              "    <tr>\n",
              "      <th>10</th>\n",
              "      <td>Lag_ret2</td>\n",
              "      <td>[-2.6360167508234732e-05]</td>\n",
              "    </tr>\n",
              "  </tbody>\n",
              "</table>\n",
              "</div>"
            ],
            "text/plain": [
              "              0                          1\n",
              "0          Open     [0.005678111821324658]\n",
              "1          High     [0.012460395000539772]\n",
              "2           Low    [-0.013810953940200838]\n",
              "3         Close   [-0.0005386420383693176]\n",
              "4    Open-Close     [0.009762426705833277]\n",
              "5     Open-Open    [-0.004329695683283902]\n",
              "6         RSI14     [0.003001168976674664]\n",
              "7        CloseY    [-0.004084314884487819]\n",
              "8   Open-CloseY     [0.009762426705833277]\n",
              "9      Lag_ret1    [-8.19588587511508e-05]\n",
              "10     Lag_ret2  [-2.6360167508234732e-05]"
            ]
          },
          "execution_count": 40,
          "metadata": {},
          "output_type": "execute_result"
        }
      ],
      "source": [
        "pd.DataFrame(zip(X.columns, np.transpose(model.coef_)))"
      ]
    },
    {
      "cell_type": "code",
      "execution_count": null,
      "id": "9d342c52-a0ec-43ec-9b76-230cefde451e",
      "metadata": {
        "id": "9d342c52-a0ec-43ec-9b76-230cefde451e",
        "outputId": "cdd445a2-b085-431f-e0f8-b0a111ffa538"
      },
      "outputs": [
        {
          "name": "stdout",
          "output_type": "stream",
          "text": [
            "[[0.50086921 0.49913079]\n",
            " [0.50349867 0.49650133]\n",
            " [0.50525975 0.49474025]\n",
            " ...\n",
            " [0.50228877 0.49771123]\n",
            " [0.51040755 0.48959245]\n",
            " [0.50509103 0.49490897]]\n"
          ]
        }
      ],
      "source": [
        "probability = model.predict_proba(X_test)\n",
        "print(probability)"
      ]
    },
    {
      "cell_type": "code",
      "execution_count": null,
      "id": "9706b147-409e-4fe9-a51e-e625a6abf466",
      "metadata": {
        "id": "9706b147-409e-4fe9-a51e-e625a6abf466",
        "outputId": "b0bf55a0-0ac5-46eb-e57b-629c419acc80"
      },
      "outputs": [
        {
          "data": {
            "text/plain": [
              "array([-1, -1, -1, ..., -1, -1, -1])"
            ]
          },
          "execution_count": 42,
          "metadata": {},
          "output_type": "execute_result"
        }
      ],
      "source": [
        "predicted = model.predict(X_test)\n",
        "predicted"
      ]
    },
    {
      "cell_type": "code",
      "execution_count": null,
      "id": "1169f366-5dfc-4cfe-8327-2c85190c4d05",
      "metadata": {
        "id": "1169f366-5dfc-4cfe-8327-2c85190c4d05",
        "outputId": "4cdf5acd-1140-4708-a45b-9f6027d6641b"
      },
      "outputs": [
        {
          "name": "stdout",
          "output_type": "stream",
          "text": [
            "\n",
            "Date(s) with Buy Signal(s):\n",
            "DatetimeIndex(['2023-04-10 12:30:00-04:00', '2023-04-10 14:30:00-04:00',\n",
            "               '2023-04-10 15:30:00-04:00', '2023-04-11 09:30:00-04:00',\n",
            "               '2023-04-11 10:30:00-04:00', '2023-04-11 11:30:00-04:00',\n",
            "               '2023-04-11 12:30:00-04:00', '2023-04-11 13:30:00-04:00',\n",
            "               '2023-04-11 14:30:00-04:00', '2023-04-11 15:30:00-04:00',\n",
            "               ...\n",
            "               '2024-02-12 09:30:00-05:00', '2024-02-12 10:30:00-05:00',\n",
            "               '2024-02-12 12:30:00-05:00', '2024-02-12 13:30:00-05:00',\n",
            "               '2024-02-12 14:30:00-05:00', '2024-02-14 09:30:00-05:00',\n",
            "               '2024-02-15 09:30:00-05:00', '2024-02-15 11:30:00-05:00',\n",
            "               '2024-02-15 13:30:00-05:00', '2024-02-16 10:30:00-05:00'],\n",
            "              dtype='datetime64[ns, America/New_York]', name='Datetime', length=675, freq=None)\n"
          ]
        }
      ],
      "source": [
        "dates_of_prediction = X_test.index\n",
        "buy_signal_dates = dates_of_prediction[predicted == 1]\n",
        "\n",
        "# Print the date(s) with buy signal(s)\n",
        "print(\"\\nDate(s) with Buy Signal(s):\")\n",
        "print(buy_signal_dates)"
      ]
    },
    {
      "cell_type": "code",
      "execution_count": null,
      "id": "4ab61e17-13ad-4bde-b579-bb4e319398d3",
      "metadata": {
        "id": "4ab61e17-13ad-4bde-b579-bb4e319398d3",
        "outputId": "48ef080a-459b-431c-9951-04572e961165"
      },
      "outputs": [
        {
          "name": "stdout",
          "output_type": "stream",
          "text": [
            "[[427 315]\n",
            " [415 360]]\n"
          ]
        }
      ],
      "source": [
        "print(metrics.confusion_matrix(y_test, predicted))"
      ]
    },
    {
      "cell_type": "code",
      "execution_count": null,
      "id": "2d10c19c-f7f2-4fb1-ba40-bc5c0806f17b",
      "metadata": {
        "id": "2d10c19c-f7f2-4fb1-ba40-bc5c0806f17b",
        "outputId": "bbf12a3c-a396-4408-9321-354062727e80"
      },
      "outputs": [
        {
          "name": "stdout",
          "output_type": "stream",
          "text": [
            "              precision    recall  f1-score   support\n",
            "\n",
            "          -1       0.51      0.58      0.54       742\n",
            "           1       0.53      0.46      0.50       775\n",
            "\n",
            "    accuracy                           0.52      1517\n",
            "   macro avg       0.52      0.52      0.52      1517\n",
            "weighted avg       0.52      0.52      0.52      1517\n",
            "\n"
          ]
        }
      ],
      "source": [
        "print(metrics.classification_report(y_test, predicted))"
      ]
    },
    {
      "cell_type": "code",
      "execution_count": null,
      "id": "1f2cf91d-c4f7-4ac0-a1bd-b9b3e2e7b85b",
      "metadata": {
        "id": "1f2cf91d-c4f7-4ac0-a1bd-b9b3e2e7b85b",
        "outputId": "ef26be52-b73e-4284-bb05-d5c1cc2e2caf"
      },
      "outputs": [
        {
          "name": "stdout",
          "output_type": "stream",
          "text": [
            "0.5187870797626896\n"
          ]
        }
      ],
      "source": [
        "model3 = model.score(X_test,y_test)\n",
        "print(model.score(X_test,y_test))"
      ]
    },
    {
      "cell_type": "code",
      "execution_count": null,
      "id": "348bd06f-a470-4314-b774-cff44325aaeb",
      "metadata": {
        "id": "348bd06f-a470-4314-b774-cff44325aaeb",
        "outputId": "7880504b-48f7-4fc9-e022-73b756d8e2ca"
      },
      "outputs": [
        {
          "data": {
            "image/png": "[encoded data removed]",
            "text/plain": [
              "<Figure size 1000x500 with 1 Axes>"
            ]
          },
          "metadata": {},
          "output_type": "display_data"
        }
      ],
      "source": [
        "st_df3['Predicted_Signal'] = model.predict(X)\n",
        "st_df3['Stock_returns'] = np.log(st_df3['Close']/st_df3['Close'].shift(1))\n",
        "Cumulative_Stock_returns3 = np.exp(np.cumsum(st_df3[split:]['Stock_returns']))\n",
        "\n",
        "\n",
        "st_df3['Strategy_returns'] = st_df3['Stock_returns']* st_df3['Predicted_Signal'].shift(1)\n",
        "Cumulative_Strategy_returns3 = np.exp(np.cumsum(st_df3[split:]['Strategy_returns']))\n",
        "\n",
        "Csr3 = Cumulative_Stock_returns3.iloc[-1]\n",
        "Cstr3 = Cumulative_Strategy_returns3.iloc[-1]\n",
        "\n",
        "plt.figure(figsize=(10,5))\n",
        "plt.plot(Cumulative_Stock_returns3, color='r', label = 'Stock Returns')\n",
        "plt.plot(Cumulative_Strategy_returns3, color='g', label = 'Strategy Returns')\n",
        "plt.legend()\n",
        "plt.show()"
      ]
    },
    {
      "cell_type": "code",
      "execution_count": null,
      "id": "e8f6db61-f4c3-4bc4-9b6b-6c720522bd76",
      "metadata": {
        "id": "e8f6db61-f4c3-4bc4-9b6b-6c720522bd76",
        "outputId": "3b2e01b7-f3cc-43f4-a98b-150b07b1a42a"
      },
      "outputs": [
        {
          "name": "stdout",
          "output_type": "stream",
          "text": [
            "Stock return 1: 1.2228026038683626\n",
            "Stock return 2: 1.219654502932695\n",
            "Stock return 3: 1.2206214564932314\n",
            "Strategy 1 return: 0.9985381949776182\n",
            "Strategy 2 return: 1.3589103240097744\n",
            "Strategy 3 return: 1.2609212448228941\n",
            "Model1 Score: 0.5032851511169514\n",
            "Model2 Score: 0.5349143610013175\n",
            "Model3 Score: 0.5187870797626896\n"
          ]
        }
      ],
      "source": [
        "print(f'Stock return 1: {Csr}')\n",
        "print(f'Stock return 2: {Csr2}')\n",
        "print(f'Stock return 3: {Csr3}')\n",
        "print(f'Strategy 1 return: {Cstr}')\n",
        "print(f'Strategy 2 return: {Cstr2}')\n",
        "print(f'Strategy 3 return: {Cstr3}')\n",
        "print(f'Model1 Score: {model1}')\n",
        "print(f'Model2 Score: {model2}')\n",
        "print(f'Model3 Score: {model3}')"
      ]
    },
    {
      "cell_type": "code",
      "execution_count": null,
      "id": "1b01d1e9-c706-4238-aafa-ff82821ae5cc",
      "metadata": {
        "id": "1b01d1e9-c706-4238-aafa-ff82821ae5cc",
        "outputId": "b9374f6e-1791-41b4-9af8-dbade66e257f"
      },
      "outputs": [
        {
          "data": {
            "image/png": "[encoded data removed]",
            "text/plain": [
              "<Figure size 1000x500 with 1 Axes>"
            ]
          },
          "metadata": {},
          "output_type": "display_data"
        }
      ],
      "source": [
        "plt.figure(figsize=(10,5))\n",
        "plt.plot(Cumulative_Stock_returns3, color='r', label = 'Stock Returns')\n",
        "plt.plot(Cumulative_Strategy_returns1, color='y', label = 'Strategy Returns 1')\n",
        "plt.plot(Cumulative_Strategy_returns2, color='b', label = 'Strategy Returns 2')\n",
        "plt.plot(Cumulative_Strategy_returns3, color='g', label = 'Strategy Returns 3')\n",
        "plt.legend()\n",
        "plt.show()"
      ]
    },
    {
      "cell_type": "code",
      "execution_count": null,
      "id": "bd0a843d-9df3-4f82-b939-87dde04e29c7",
      "metadata": {
        "id": "bd0a843d-9df3-4f82-b939-87dde04e29c7"
      },
      "outputs": [],
      "source": []
    }
  ],
  "metadata": {
    "kernelspec": {
      "display_name": "Python 3 (ipykernel)",
      "language": "python",
      "name": "python3"
    },
    "language_info": {
      "codemirror_mode": {
        "name": "ipython",
        "version": 3
      },
      "file_extension": ".py",
      "mimetype": "text/x-python",
      "name": "python",
      "nbconvert_exporter": "python",
      "pygments_lexer": "ipython3",
      "version": "3.11.5"
    },
    "colab": {
      "provenance": [],
      "include_colab_link": true
    }
  },
  "nbformat": 4,
  "nbformat_minor": 5
}